{
 "cells": [
  {
   "cell_type": "code",
   "execution_count": 3,
   "metadata": {},
   "outputs": [],
   "source": [
    "import numpy as np\n",
    "import torch\n",
    "from tqdm.auto import tqdm\n",
    "from transformers import AutoTokenizer, AutoModel\n",
    "import os\n",
    "import pandas as pd\n",
    "from importlib import reload"
   ]
  },
  {
   "cell_type": "code",
   "execution_count": 4,
   "metadata": {},
   "outputs": [
    {
     "data": {
      "text/plain": [
       "<module 'src.models.ontology_mapper_lm' from '/Users/abhilashdhal/Desktop/cbioportal_gsoc/OmicsMLRepoHarmonizer/src/models/ontology_mapper_lm.py'>"
      ]
     },
     "execution_count": 4,
     "metadata": {},
     "output_type": "execute_result"
    }
   ],
   "source": [
    "import src.models.ontology_mapper_st as om_st\n",
    "import src.models.ontology_mapping_engine as ome\n",
    "import src.models.ontology_mapper_lm as om_lm\n",
    "reload(om_st)\n",
    "reload(ome)\n",
    "reload(om_lm)"
   ]
  },
  {
   "cell_type": "code",
   "execution_count": 6,
   "metadata": {},
   "outputs": [],
   "source": [
    "cura_map_large_corpus = pd.read_csv('./data/cBioPortal_treatment_name_map_for_largerCorpus.csv', delimiter=',', on_bad_lines='skip')\n",
    "large_corpus = pd.read_csv('./data/corpus_from_NCIT_C1909.csv', header=None, on_bad_lines='skip')\n",
    "large_corpus.columns = ['curated_treatment']\n",
    "\n",
    "query_list = list(cura_map_large_corpus['original_value'])\n",
    "curated_list = list(cura_map_large_corpus['curated_ontology'])\n",
    "cura_map_lcs = dict(zip(query_list, curated_list))\n",
    "corpus_list = list(large_corpus['curated_treatment'])\n",
    "small_corpus_list = list(cura_map_large_corpus['curated_ontology'].unique())"
   ]
  },
  {
   "cell_type": "code",
   "execution_count": 9,
   "metadata": {},
   "outputs": [
    {
     "name": "stdout",
     "output_type": "stream",
     "text": [
      "23/07//2024 11:54:1721715854 AM - INFO - OntoMapLM: Initialized OntoMap Language Model module\n",
      "23/07//2024 11:54:1721715854 AM - INFO - OntoMapLM: Initialized OntoMap Language Model module\n"
     ]
    }
   ],
   "source": [
    "\n",
    "ct_instance_sapbert = om_lm.OntoMapLM(method='sap-bert', topk=5, query=query_list,\n",
    "                                      corpus=small_corpus_list,\n",
    "                                      yaml_path='./src/models/method_model.yaml', from_tokenizer=True)"
   ]
  },
  {
   "cell_type": "code",
   "execution_count": null,
   "metadata": {},
   "outputs": [],
   "source": [
    "es_sapbert_small = ct_instance_sapbert.get_match_results(cura_map=cura_map_lcs, topk=5)"
   ]
  }
 ],
 "metadata": {
  "kernelspec": {
   "display_name": "‘gsoc_harmon_2024’",
   "language": "python",
   "name": "python3"
  },
  "language_info": {
   "codemirror_mode": {
    "name": "ipython",
    "version": 3
   },
   "file_extension": ".py",
   "mimetype": "text/x-python",
   "name": "python",
   "nbconvert_exporter": "python",
   "pygments_lexer": "ipython3",
   "version": "3.12.2"
  }
 },
 "nbformat": 4,
 "nbformat_minor": 2
}
